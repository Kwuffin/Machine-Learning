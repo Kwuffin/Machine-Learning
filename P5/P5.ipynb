{
 "cells": [
  {
   "cell_type": "code",
   "execution_count": 1,
   "id": "statutory-ultimate",
   "metadata": {},
   "outputs": [],
   "source": [
    "import tensorflow.keras.datasets.cifar10\n",
    "import numpy as np\n",
    "import matplotlib.pyplot as plt\n",
    "import random  \n",
    "import time\n",
    "\n",
    "from tensorflow.keras.models import Sequential \n",
    "\n",
    "from tensorflow.keras.layers import Dense, Dropout, Activation, Conv2D, MaxPooling2D, ZeroPadding2D, GlobalAveragePooling2D, Flatten\n",
    "from tensorflow.keras.optimizers import SGD, Adam, schedules\n",
    "from tensorflow.keras import utils    \n",
    "import tensorflow as tf\n",
    "\n",
    "from keras.preprocessing.image import ImageDataGenerator\n",
    "from keras.layers.normalization import BatchNormalization"
   ]
  },
  {
   "cell_type": "markdown",
   "id": "grave-respondent",
   "metadata": {},
   "source": [
    "## Check if GPU is able to be used"
   ]
  },
  {
   "cell_type": "code",
   "execution_count": 2,
   "id": "honest-child",
   "metadata": {},
   "outputs": [],
   "source": [
    "configuration = tf.compat.v1.ConfigProto()\n",
    "configuration.gpu_options.allow_growth = True\n",
    "session = tf.compat.v1.Session(config=configuration)"
   ]
  },
  {
   "cell_type": "code",
   "execution_count": 3,
   "id": "closed-identification",
   "metadata": {},
   "outputs": [
    {
     "name": "stdout",
     "output_type": "stream",
     "text": [
      "Num GPUs Available:  1\n"
     ]
    }
   ],
   "source": [
    "print(\"Num GPUs Available: \", len(tf.config.experimental.list_physical_devices('GPU')))"
   ]
  },
  {
   "cell_type": "markdown",
   "id": "matched-cloud",
   "metadata": {},
   "source": [
    "## Data prep\n",
    "We verdelen de dataset in een train- en test set in de juiste shapes"
   ]
  },
  {
   "cell_type": "code",
   "execution_count": 4,
   "id": "frank-riverside",
   "metadata": {
    "scrolled": true
   },
   "outputs": [
    {
     "name": "stdout",
     "output_type": "stream",
     "text": [
      "x_train shape (50000, 32, 32, 3)\n",
      "y_train shape (50000, 1)\n",
      "x_test shape (10000, 32, 32, 3)\n",
      "y_test shape (10000, 1)\n"
     ]
    }
   ],
   "source": [
    "(X_train, Y_train), (X_test, Y_test) = tensorflow.keras.datasets.cifar10.load_data()\n",
    "\n",
    "print(\"x_train shape\", X_train.shape)\n",
    "print(\"y_train shape\", Y_train.shape)\n",
    "print(\"x_test shape\", X_test.shape)\n",
    "print(\"y_test shape\", Y_test.shape)"
   ]
  },
  {
   "cell_type": "code",
   "execution_count": 5,
   "id": "sacred-benefit",
   "metadata": {},
   "outputs": [
    {
     "name": "stdout",
     "output_type": "stream",
     "text": [
      "Y_train: (50000, 10), Y_test: (10000, 10)\n"
     ]
    }
   ],
   "source": [
    "nb_classes = 10 # Er zijn tien verschillende klasses\n",
    "\n",
    "Y_train = utils.to_categorical(Y_train, nb_classes)\n",
    "Y_test = utils.to_categorical(Y_test, nb_classes)\n",
    "\n",
    "print(f\"Y_train: {Y_train.shape}, Y_test: {Y_test.shape}\")"
   ]
  },
  {
   "cell_type": "markdown",
   "id": "floating-converter",
   "metadata": {},
   "source": [
    "## Model"
   ]
  },
  {
   "cell_type": "code",
   "execution_count": 6,
   "id": "studied-deployment",
   "metadata": {
    "scrolled": false
   },
   "outputs": [],
   "source": [
    "model = Sequential()\n",
    "\n",
    "# Conv Layer 1\n",
    "model.add(Conv2D(filters=32, kernel_size=(3, 3), input_shape=(32,32,3), padding='same'))\n",
    "model.add(Activation('relu'))\n",
    "model.add(BatchNormalization())\n",
    "\n",
    "model.add(MaxPooling2D(pool_size=(2, 2)))\n",
    "\n",
    "# Conv Layer 2\n",
    "model.add(Conv2D(filters=64, kernel_size=(3, 3), padding='same'))\n",
    "model.add(Activation('relu'))\n",
    "\n",
    "# Conv Layer 3\n",
    "model.add(Conv2D(filters=64, kernel_size=(3, 3), padding='same'))\n",
    "model.add(Dropout(0.1))\n",
    "model.add(Activation('relu'))\n",
    "\n",
    "# Fully Connected Layer 4\n",
    "model.add(Flatten())\n",
    "model.add(Dropout(0.2))\n",
    "model.add(Dense(10, kernel_regularizer=tf.keras.regularizers.l2(0.02)))\n",
    "model.add(Activation('softmax'))"
   ]
  },
  {
   "cell_type": "code",
   "execution_count": 7,
   "id": "scientific-polyester",
   "metadata": {},
   "outputs": [
    {
     "name": "stdout",
     "output_type": "stream",
     "text": [
      "Model: \"sequential\"\n",
      "_________________________________________________________________\n",
      "Layer (type)                 Output Shape              Param #   \n",
      "=================================================================\n",
      "conv2d (Conv2D)              (None, 32, 32, 32)        896       \n",
      "_________________________________________________________________\n",
      "activation (Activation)      (None, 32, 32, 32)        0         \n",
      "_________________________________________________________________\n",
      "batch_normalization (BatchNo (None, 32, 32, 32)        128       \n",
      "_________________________________________________________________\n",
      "max_pooling2d (MaxPooling2D) (None, 16, 16, 32)        0         \n",
      "_________________________________________________________________\n",
      "conv2d_1 (Conv2D)            (None, 16, 16, 64)        18496     \n",
      "_________________________________________________________________\n",
      "activation_1 (Activation)    (None, 16, 16, 64)        0         \n",
      "_________________________________________________________________\n",
      "conv2d_2 (Conv2D)            (None, 16, 16, 64)        36928     \n",
      "_________________________________________________________________\n",
      "dropout (Dropout)            (None, 16, 16, 64)        0         \n",
      "_________________________________________________________________\n",
      "activation_2 (Activation)    (None, 16, 16, 64)        0         \n",
      "_________________________________________________________________\n",
      "flatten (Flatten)            (None, 16384)             0         \n",
      "_________________________________________________________________\n",
      "dropout_1 (Dropout)          (None, 16384)             0         \n",
      "_________________________________________________________________\n",
      "dense (Dense)                (None, 10)                163850    \n",
      "_________________________________________________________________\n",
      "activation_3 (Activation)    (None, 10)                0         \n",
      "=================================================================\n",
      "Total params: 220,298\n",
      "Trainable params: 220,234\n",
      "Non-trainable params: 64\n",
      "_________________________________________________________________\n"
     ]
    }
   ],
   "source": [
    "model.summary()"
   ]
  },
  {
   "cell_type": "code",
   "execution_count": 8,
   "id": "serial-gnome",
   "metadata": {
    "scrolled": false
   },
   "outputs": [
    {
     "name": "stdout",
     "output_type": "stream",
     "text": [
      "Epoch 1/25\n",
      "352/352 [==============================] - 6s 10ms/step - loss: 1.9159 - accuracy: 0.4034 - val_loss: 1.3855 - val_accuracy: 0.5736\n",
      "Epoch 2/25\n",
      "352/352 [==============================] - 3s 7ms/step - loss: 1.2534 - accuracy: 0.6151 - val_loss: 1.2176 - val_accuracy: 0.6386\n",
      "Epoch 3/25\n",
      "352/352 [==============================] - 3s 7ms/step - loss: 1.1252 - accuracy: 0.6707 - val_loss: 1.0691 - val_accuracy: 0.6930\n",
      "Epoch 4/25\n",
      "352/352 [==============================] - 3s 7ms/step - loss: 1.0636 - accuracy: 0.6948 - val_loss: 1.0530 - val_accuracy: 0.6928\n",
      "Epoch 5/25\n",
      "352/352 [==============================] - 3s 7ms/step - loss: 1.0163 - accuracy: 0.7149 - val_loss: 1.0904 - val_accuracy: 0.6886\n",
      "Epoch 6/25\n",
      "352/352 [==============================] - 3s 7ms/step - loss: 0.9795 - accuracy: 0.7293 - val_loss: 1.1483 - val_accuracy: 0.6722\n",
      "Epoch 7/25\n",
      "352/352 [==============================] - 3s 7ms/step - loss: 0.9493 - accuracy: 0.7379 - val_loss: 1.0146 - val_accuracy: 0.7224\n",
      "Epoch 8/25\n",
      "352/352 [==============================] - 3s 7ms/step - loss: 0.9296 - accuracy: 0.7495 - val_loss: 1.1112 - val_accuracy: 0.6840\n",
      "Epoch 9/25\n",
      "352/352 [==============================] - 3s 7ms/step - loss: 0.9040 - accuracy: 0.7598 - val_loss: 0.9761 - val_accuracy: 0.7386\n",
      "Epoch 10/25\n",
      "352/352 [==============================] - 3s 7ms/step - loss: 0.8902 - accuracy: 0.7672 - val_loss: 1.0035 - val_accuracy: 0.7244\n",
      "Epoch 11/25\n",
      "352/352 [==============================] - 3s 7ms/step - loss: 0.8705 - accuracy: 0.7728 - val_loss: 0.9618 - val_accuracy: 0.7500\n",
      "Epoch 12/25\n",
      "352/352 [==============================] - 3s 7ms/step - loss: 0.8561 - accuracy: 0.7776 - val_loss: 1.1023 - val_accuracy: 0.7098\n",
      "Epoch 13/25\n",
      "352/352 [==============================] - 2s 7ms/step - loss: 0.8445 - accuracy: 0.7797 - val_loss: 0.9684 - val_accuracy: 0.7462\n",
      "Epoch 14/25\n",
      "352/352 [==============================] - 2s 7ms/step - loss: 0.8260 - accuracy: 0.7913 - val_loss: 0.9742 - val_accuracy: 0.7494\n",
      "Epoch 15/25\n",
      "352/352 [==============================] - 2s 7ms/step - loss: 0.8063 - accuracy: 0.8008 - val_loss: 1.0522 - val_accuracy: 0.7242\n",
      "Epoch 16/25\n",
      "352/352 [==============================] - 3s 7ms/step - loss: 0.8057 - accuracy: 0.8015 - val_loss: 1.0213 - val_accuracy: 0.7306\n",
      "Epoch 17/25\n",
      "352/352 [==============================] - 3s 7ms/step - loss: 0.7968 - accuracy: 0.8060 - val_loss: 1.0898 - val_accuracy: 0.7112\n",
      "Epoch 18/25\n",
      "352/352 [==============================] - 3s 7ms/step - loss: 0.7808 - accuracy: 0.8115 - val_loss: 0.9807 - val_accuracy: 0.7464\n",
      "Epoch 19/25\n",
      "352/352 [==============================] - 3s 7ms/step - loss: 0.7797 - accuracy: 0.8119 - val_loss: 0.9645 - val_accuracy: 0.7566\n",
      "Epoch 20/25\n",
      "352/352 [==============================] - 2s 7ms/step - loss: 0.7657 - accuracy: 0.8144 - val_loss: 0.9626 - val_accuracy: 0.7604\n",
      "Epoch 21/25\n",
      "352/352 [==============================] - 3s 7ms/step - loss: 0.7664 - accuracy: 0.8173 - val_loss: 0.9735 - val_accuracy: 0.7534\n",
      "Epoch 22/25\n",
      "352/352 [==============================] - 3s 7ms/step - loss: 0.7533 - accuracy: 0.8231 - val_loss: 1.0508 - val_accuracy: 0.7274\n",
      "Epoch 23/25\n",
      "352/352 [==============================] - 3s 7ms/step - loss: 0.7484 - accuracy: 0.8228 - val_loss: 1.0368 - val_accuracy: 0.7398\n",
      "Epoch 24/25\n",
      "352/352 [==============================] - 2s 7ms/step - loss: 0.7439 - accuracy: 0.8299 - val_loss: 0.9591 - val_accuracy: 0.7624\n",
      "Epoch 25/25\n",
      "352/352 [==============================] - 2s 7ms/step - loss: 0.7307 - accuracy: 0.8321 - val_loss: 1.0444 - val_accuracy: 0.7442\n"
     ]
    }
   ],
   "source": [
    "model.compile(loss='categorical_crossentropy', optimizer='adam', metrics=['accuracy'])\n",
    "\n",
    "fit_data = model.fit(X_train, Y_train,\n",
    "                    batch_size=128,  # Kan op 64 gezet worden, hetzelfde resultaat, maar langzamer\n",
    "                    epochs=25,  # Meer dan 25 epochs schijnt niet veel effect meer te hebben\n",
    "                    verbose=1,\n",
    "                    validation_split=0.1)  # Laat trainingsvoorbeelden in een ander patroon zien, vookom overfitting"
   ]
  },
  {
   "cell_type": "markdown",
   "id": "consecutive-proxy",
   "metadata": {},
   "source": [
    "## Evaluatie"
   ]
  },
  {
   "cell_type": "code",
   "execution_count": 9,
   "id": "eight-flexibility",
   "metadata": {},
   "outputs": [
    {
     "name": "stdout",
     "output_type": "stream",
     "text": [
      "313/313 [==============================] - 1s 3ms/step - loss: 1.0676 - accuracy: 0.7319\n",
      "Test loss: 1.0676\n",
      "Test accuracy: 0.7319\n"
     ]
    }
   ],
   "source": [
    "loss, accuracy = model.evaluate(X_test, Y_test)\n",
    "print(f\"Test loss: {loss:.4f}\")\n",
    "print(f\"Test accuracy: {accuracy:.4f}\")"
   ]
  },
  {
   "cell_type": "code",
   "execution_count": 10,
   "id": "understood-hometown",
   "metadata": {},
   "outputs": [
    {
     "data": {
      "image/png": "[encoded data removed]",
      "text/plain": [
       "<Figure size 432x288 with 1 Axes>"
      ]
     },
     "metadata": {
      "needs_background": "light"
     },
     "output_type": "display_data"
    },
    {
     "data": {
      "image/png": "[encoded data removed]",
      "text/plain": [
       "<Figure size 432x288 with 1 Axes>"
      ]
     },
     "metadata": {
      "needs_background": "light"
     },
     "output_type": "display_data"
    }
   ],
   "source": [
    "plt.plot(fit_data.history['accuracy'])\n",
    "plt.plot(fit_data.history['val_accuracy'])\n",
    "plt.title('Model accuracy')\n",
    "plt.ylabel('Accuracy')\n",
    "plt.xlabel('Epoch')\n",
    "plt.legend(['Train', 'Validation'], loc='upper left')\n",
    "plt.show()\n",
    "\n",
    "\n",
    "plt.plot(fit_data.history['loss'])\n",
    "plt.plot(fit_data.history['val_loss'])\n",
    "plt.title('Model loss')\n",
    "plt.ylabel('Loss')\n",
    "plt.xlabel('Epoch')\n",
    "plt.legend(['Train', 'Validation'], loc='upper left')\n",
    "plt.show()"
   ]
  },
  {
   "cell_type": "markdown",
   "id": "traditional-issue",
   "metadata": {
    "scrolled": true
   },
   "source": [
    "## Conclusie\n",
    "\n",
    "Ik ben uiteindelijk op een accuracy van ongeveer 75% gekomen met 3 convolutionele layers en 1 fully connected layer.\n",
    "\n",
    "Aan de grafieken te zien overfit het model nog wel een beetje zoals te zien is aan de oranje lijn vaak wel onder de blauwe lijn ligt. Ik heb erg veel geprobeerd om mijn model niet te laten overfitten zoals meerdere maxpools, dropouts, en hogere waardes voor de L2 regularisatie. Ook heb ik andere optimizers en activatiefuncties gebruikt. Uiteindelijk besloot ik toch te blijven bij wat we in de basis al hadden qua lossberekening, optmizer, aantal layers, etc. \n",
    "\n",
    "ReLU activatiefuncties bleken het beste te werken vergelegen met tanh, sigmoid, selu en elu.\n",
    "\n",
    "Ik heb gebruik gemaakt van een MaxPool van 2x2 om eventuele belangrijke features of patronen te vinden. Meer/geen maxpools gaf een lagere testscore.\n",
    "\n",
    "In de laatste twee layers maak ik gebruik van een dropout om overfitten tegen te gaan. Twee layers bleek een betere score te geven dan één.\n",
    "\n",
    "Ik heb in de fully connected layer L2 regularisatie toegepast. Dit past de de berekening van de loss functie aan.\n",
    "\n",
    "Voor L1 regularisatie: `loss = L1 * reduce_sum(abs(x))`\n",
    "\n",
    "Voor L2 regularisatie: `loss = L2 * reduce_sum(square(x))`\n",
    "\n",
    "Tn slotte heb ik bij het trainen gekozen om een parameter `validation_split=0.1` mee te geven, dit is zodat het model telkens data in een ander patroon krijgt te zien, en dus niet overfit."
   ]
  },
  {
   "cell_type": "code",
   "execution_count": null,
   "id": "hollow-software",
   "metadata": {},
   "outputs": [],
   "source": []
  }
 ],
 "metadata": {
  "kernelspec": {
   "display_name": "Python 3",
   "language": "python",
   "name": "python3"
  },
  "language_info": {
   "codemirror_mode": {
    "name": "ipython",
    "version": 3
   },
   "file_extension": ".py",
   "mimetype": "text/x-python",
   "name": "python",
   "nbconvert_exporter": "python",
   "pygments_lexer": "ipython3",
   "version": "3.8.3"
  }
 },
 "nbformat": 4,
 "nbformat_minor": 5
}
